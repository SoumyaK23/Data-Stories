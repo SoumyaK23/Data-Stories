{
 "cells": [
  {
   "cell_type": "markdown",
   "metadata": {},
   "source": [
    "# HR analytics Kaggle"
   ]
  },
  {
   "cell_type": "code",
   "execution_count": 1,
   "metadata": {
    "collapsed": true
   },
   "outputs": [],
   "source": [
    "# import libraries\n",
    "import pandas as pd\n",
    "import matplotlib.pyplot as plt\n",
    "import numpy as np\n",
    "import pandas as pd\n",
    "import seaborn as sns\n",
    "import csv as csv\n",
    "\n",
    "# import scipy and statsmodels libraries to use inbuild stats functions\n",
    "import scipy.stats as stats\n",
    "import statsmodels.api as sm\n",
    "from sklearn.ensemble import RandomForestRegressor\n",
    "%matplotlib inline\n",
    "\n",
    "# read the csv file \n",
    "hr_df = pd.read_csv('HR_comma_sep.csv')"
   ]
  },
  {
   "cell_type": "code",
   "execution_count": 2,
   "metadata": {
    "collapsed": false
   },
   "outputs": [
    {
     "name": "stdout",
     "output_type": "stream",
     "text": [
      "(14999, 10)\n",
      "Index(['satisfaction_level', 'last_evaluation', 'number_project',\n",
      "       'average_montly_hours', 'time_spend_company', 'Work_accident', 'left',\n",
      "       'promotion_last_5years', 'sales', 'salary'],\n",
      "      dtype='object')\n",
      "       satisfaction_level  last_evaluation  number_project  \\\n",
      "count        14999.000000     14999.000000    14999.000000   \n",
      "mean             0.612834         0.716102        3.803054   \n",
      "std              0.248631         0.171169        1.232592   \n",
      "min              0.090000         0.360000        2.000000   \n",
      "25%              0.440000         0.560000        3.000000   \n",
      "50%              0.640000         0.720000        4.000000   \n",
      "75%              0.820000         0.870000        5.000000   \n",
      "max              1.000000         1.000000        7.000000   \n",
      "\n",
      "       average_montly_hours  time_spend_company  Work_accident          left  \\\n",
      "count          14999.000000        14999.000000   14999.000000  14999.000000   \n",
      "mean             201.050337            3.498233       0.144610      0.238083   \n",
      "std               49.943099            1.460136       0.351719      0.425924   \n",
      "min               96.000000            2.000000       0.000000      0.000000   \n",
      "25%              156.000000            3.000000       0.000000      0.000000   \n",
      "50%              200.000000            3.000000       0.000000      0.000000   \n",
      "75%              245.000000            4.000000       0.000000      0.000000   \n",
      "max              310.000000           10.000000       1.000000      1.000000   \n",
      "\n",
      "       promotion_last_5years  \n",
      "count           14999.000000  \n",
      "mean                0.021268  \n",
      "std                 0.144281  \n",
      "min                 0.000000  \n",
      "25%                 0.000000  \n",
      "50%                 0.000000  \n",
      "75%                 0.000000  \n",
      "max                 1.000000  \n"
     ]
    }
   ],
   "source": [
    "# some basic data descriptive analysis\n",
    "print(hr_df.shape)\n",
    "print(hr_df.columns)\n",
    "print(hr_df.describe())"
   ]
  },
  {
   "cell_type": "code",
   "execution_count": 3,
   "metadata": {
    "collapsed": false
   },
   "outputs": [
    {
     "name": "stdout",
     "output_type": "stream",
     "text": [
      "                       satisfaction_level  last_evaluation  number_project  \\\n",
      "satisfaction_level               1.000000         0.105021       -0.142970   \n",
      "last_evaluation                  0.105021         1.000000        0.349333   \n",
      "number_project                  -0.142970         0.349333        1.000000   \n",
      "average_montly_hours            -0.020048         0.339742        0.417211   \n",
      "time_spend_company              -0.100866         0.131591        0.196786   \n",
      "Work_accident                    0.058697        -0.007104       -0.004741   \n",
      "promotion_last_5years            0.025605        -0.008684       -0.006064   \n",
      "left                            -0.388375         0.006567        0.023787   \n",
      "\n",
      "                       average_montly_hours  time_spend_company  \\\n",
      "satisfaction_level                -0.020048           -0.100866   \n",
      "last_evaluation                    0.339742            0.131591   \n",
      "number_project                     0.417211            0.196786   \n",
      "average_montly_hours               1.000000            0.127755   \n",
      "time_spend_company                 0.127755            1.000000   \n",
      "Work_accident                     -0.010143            0.002120   \n",
      "promotion_last_5years             -0.003544            0.067433   \n",
      "left                               0.071287            0.144822   \n",
      "\n",
      "                       Work_accident  promotion_last_5years      left  \n",
      "satisfaction_level          0.058697               0.025605 -0.388375  \n",
      "last_evaluation            -0.007104              -0.008684  0.006567  \n",
      "number_project             -0.004741              -0.006064  0.023787  \n",
      "average_montly_hours       -0.010143              -0.003544  0.071287  \n",
      "time_spend_company          0.002120               0.067433  0.144822  \n",
      "Work_accident               1.000000               0.039245 -0.154622  \n",
      "promotion_last_5years       0.039245               1.000000 -0.061788  \n",
      "left                       -0.154622              -0.061788  1.000000  \n"
     ]
    },
    {
     "data": {
      "text/plain": [
       "<matplotlib.axes._subplots.AxesSubplot at 0x110493a58>"
      ]
     },
     "execution_count": 3,
     "metadata": {},
     "output_type": "execute_result"
    },
    {
     "data": {
      "image/png": "[encoded data removed]",
      "text/plain": [
       "<matplotlib.figure.Figure at 0x110493828>"
      ]
     },
     "metadata": {},
     "output_type": "display_data"
    }
   ],
   "source": [
    "# visual representation of correlations using heatmap\n",
    "hr_features = ['satisfaction_level','last_evaluation', 'number_project','average_montly_hours','time_spend_company','Work_accident','salary','promotion_last_5years','sales','left'] \n",
    "hr_corr = hr_df[hr_features].corr()\n",
    "print(hr_corr)\n",
    "sns.heatmap(hr_corr, square = True, vmax = 0.8 )"
   ]
  },
  {
   "cell_type": "markdown",
   "metadata": {},
   "source": [
    "\n",
    "** Satisfaction_level has the most negative correlation whereas time_spend_compay has the most positive correlation to employees who left **\n"
   ]
  },
  {
   "cell_type": "code",
   "execution_count": 4,
   "metadata": {
    "collapsed": false
   },
   "outputs": [
    {
     "name": "stdout",
     "output_type": "stream",
     "text": [
      "satisfaction_level       float64\n",
      "last_evaluation          float64\n",
      "number_project             int64\n",
      "average_montly_hours       int64\n",
      "time_spend_company         int64\n",
      "Work_accident              int64\n",
      "left                       int64\n",
      "promotion_last_5years      int64\n",
      "sales                     object\n",
      "salary                    object\n",
      "dtype: object\n"
     ]
    }
   ],
   "source": [
    "# look at each feature individually\n",
    "print(hr_df.dtypes)"
   ]
  },
  {
   "cell_type": "markdown",
   "metadata": {},
   "source": [
    "**We can see that sales and salary are objects. We can look at them in more detail** "
   ]
  },
  {
   "cell_type": "code",
   "execution_count": 5,
   "metadata": {
    "collapsed": false
   },
   "outputs": [
    {
     "name": "stdout",
     "output_type": "stream",
     "text": [
      "Numbers of employees: total numbers by job\n",
      "['IT' 'RandD' 'accounting' 'hr' 'management' 'marketing' 'product_mng'\n",
      " 'sales' 'support' 'technical']\n",
      "sales          4140\n",
      "technical      2720\n",
      "support        2229\n",
      "IT             1227\n",
      "product_mng     902\n",
      "marketing       858\n",
      "RandD           787\n",
      "accounting      767\n",
      "hr              739\n",
      "management      630\n",
      "Name: sales, dtype: int64\n",
      "**********\n",
      "Numbers of employees who left: numbers by job\n"
     ]
    },
    {
     "data": {
      "text/plain": [
       "sales\n",
       "IT              273\n",
       "RandD           121\n",
       "accounting      204\n",
       "hr              215\n",
       "management       91\n",
       "marketing       203\n",
       "product_mng     198\n",
       "sales          1014\n",
       "support         555\n",
       "technical       697\n",
       "Name: left, dtype: int64"
      ]
     },
     "execution_count": 5,
     "metadata": {},
     "output_type": "execute_result"
    }
   ],
   "source": [
    "# employees by numbers: employees split by department\n",
    "print(\"Numbers of employees: total numbers by job\")\n",
    "print(np.unique(hr_df.sales))\n",
    "print(hr_df['sales'].value_counts())\n",
    "hr_job = hr_df.groupby(\"sales\")\n",
    "\n",
    "print(\"**********\")\n",
    "\n",
    "print(\"Numbers of employees who left: numbers by job\")\n",
    "hr_job.left.sum()"
   ]
  },
  {
   "cell_type": "code",
   "execution_count": 6,
   "metadata": {
    "collapsed": false
   },
   "outputs": [
    {
     "name": "stdout",
     "output_type": "stream",
     "text": [
      "low       7316\n",
      "medium    6446\n",
      "high      1237\n",
      "Name: salary, dtype: int64\n",
      "__________________________________________________________________________________________\n",
      "percentages of employees: numbers by salary\n",
      "low salary: 48.78\n",
      "medium salary: 42.98\n",
      "high salary: 8.25\n",
      "__________________________________________________________________________________________\n",
      "Numbers and percentages of employees who left\n",
      "(3571, 10)\n",
      "percentage of employees who left: 23.81 percent\n",
      "__________________________________________________________________________________________\n",
      "low       2172\n",
      "medium    1317\n",
      "high        82\n",
      "Name: salary, dtype: int64\n",
      "__________________________________________________________________________________________\n",
      "low salary: 60.82\n",
      "medium salary: 36.88\n",
      "high salary: 2.30\n"
     ]
    }
   ],
   "source": [
    "# total number of employees by salary\n",
    "print(hr_df['salary'].value_counts())\n",
    "print (\"_\"*90)\n",
    "\n",
    "# percentage of employees: breakdown by salary\n",
    "print(\"percentages of employees: numbers by salary\")\n",
    "print('low salary: %3.2f' %((len(hr_df[hr_df.salary == \"low\"])/len(hr_df))*100))\n",
    "print('medium salary: %3.2f' %((len(hr_df[hr_df.salary == \"medium\"])/len(hr_df))*100))\n",
    "print('high salary: %3.2f' %((len(hr_df[hr_df.salary == \"high\"])/len(hr_df))*100))\n",
    "print (\"_\"*90)\n",
    "\n",
    "# total number of employees who left as a percentage\n",
    "print('Numbers and percentages of employees who left')\n",
    "emp_left = hr_df[hr_df.left == 1]\n",
    "print(emp_left.shape)\n",
    "perc_left = ((len(hr_df[hr_df.left == 1])/len(hr_df))*100)\n",
    "print('percentage of employees who left: %3.2f percent' %(((len(hr_df[hr_df.left == 1])/len(hr_df))*100)))\n",
    "print (\"_\"*90)\n",
    "\n",
    "print(emp_left['salary'].value_counts())\n",
    "print (\"_\"*90)\n",
    "\n",
    "# percentage of employees who left: breakdown by salary\n",
    "print('low salary: %3.2f' %((len(emp_left[emp_left.salary == \"low\"])/len(emp_left))*100))\n",
    "print('medium salary: %3.2f' %((len(emp_left[emp_left.salary == \"medium\"])/len(emp_left))*100))\n",
    "print('high salary: %3.2f' %((len(emp_left[emp_left.salary == \"high\"])/len(emp_left))*100))"
   ]
  },
  {
   "cell_type": "markdown",
   "metadata": {},
   "source": [
    "**Out of 14999 employees, 3571 left. We can now analyse the data for these employees in more detail**"
   ]
  },
  {
   "cell_type": "code",
   "execution_count": 7,
   "metadata": {
    "collapsed": false
   },
   "outputs": [
    {
     "data": {
      "text/plain": [
       "<matplotlib.axes._subplots.AxesSubplot at 0x1131a2b38>"
      ]
     },
     "execution_count": 7,
     "metadata": {},
     "output_type": "execute_result"
    },
    {
     "data": {
      "image/png": "[encoded data removed]",
      "text/plain": [
       "<matplotlib.figure.Figure at 0x1104bb2e8>"
      ]
     },
     "metadata": {},
     "output_type": "display_data"
    }
   ],
   "source": [
    "emp_left.number_project.hist()"
   ]
  },
  {
   "cell_type": "code",
   "execution_count": 8,
   "metadata": {
    "collapsed": false
   },
   "outputs": [
    {
     "name": "stdout",
     "output_type": "stream",
     "text": [
      "                       satisfaction_level  last_evaluation  number_project  \\\n",
      "satisfaction_level               1.000000         0.182295       -0.227113   \n",
      "last_evaluation                  0.182295         1.000000        0.804155   \n",
      "number_project                  -0.227113         0.804155        1.000000   \n",
      "average_montly_hours            -0.084117         0.830336        0.875194   \n",
      "time_spend_company               0.446440         0.783873        0.601989   \n",
      "Work_accident                    0.005864        -0.001875       -0.008401   \n",
      "promotion_last_5years            0.005516        -0.047992       -0.032301   \n",
      "\n",
      "                       average_montly_hours  time_spend_company  \\\n",
      "satisfaction_level                -0.084117            0.446440   \n",
      "last_evaluation                    0.830336            0.783873   \n",
      "number_project                     0.875194            0.601989   \n",
      "average_montly_hours               1.000000            0.664011   \n",
      "time_spend_company                 0.664011            1.000000   \n",
      "Work_accident                     -0.009048            0.005222   \n",
      "promotion_last_5years             -0.035475           -0.045888   \n",
      "\n",
      "                       Work_accident  promotion_last_5years  \n",
      "satisfaction_level          0.005864               0.005516  \n",
      "last_evaluation            -0.001875              -0.047992  \n",
      "number_project             -0.008401              -0.032301  \n",
      "average_montly_hours       -0.009048              -0.035475  \n",
      "time_spend_company          0.005222              -0.045888  \n",
      "Work_accident               1.000000               0.056214  \n",
      "promotion_last_5years       0.056214               1.000000  \n"
     ]
    },
    {
     "data": {
      "text/plain": [
       "<matplotlib.axes._subplots.AxesSubplot at 0x113351f28>"
      ]
     },
     "execution_count": 8,
     "metadata": {},
     "output_type": "execute_result"
    },
    {
     "data": {
      "image/png": "[encoded data removed]",
      "text/plain": [
       "<matplotlib.figure.Figure at 0x1135b7320>"
      ]
     },
     "metadata": {},
     "output_type": "display_data"
    }
   ],
   "source": [
    "# visual representation of correlations using heatmap\n",
    "left_features = ['satisfaction_level','last_evaluation', 'number_project','average_montly_hours','time_spend_company','Work_accident','salary','promotion_last_5years','sales'] \n",
    "left_corr = emp_left[left_features].corr()\n",
    "print(left_corr)\n",
    "sns.heatmap(left_corr, square = True, vmax = 0.8 )"
   ]
  },
  {
   "cell_type": "markdown",
   "metadata": {},
   "source": [
    "Very clearly, from the above heatmap, there is a negative correlation between satisfaction level and\n",
    "* number_projects\n",
    "* average_monthly_hours\n",
    "\n",
    "However, we can see that satisfaction increases with time_spend_company and last_evaluation.\n",
    "\n",
    "Since employees who leave have a negative correlation with satisfaction level and from previous observations, we can conlude that:\n",
    "* As number of projects increase, so does average monthly hours and hence satisfaction decreses. However, we can also notice that evaluation is higher when employees are on mulitple projects and spend more hours. \n",
    "* More employees on low salary leave compared to higher salary. Maybe salary can be a motivation\n"
   ]
  },
  {
   "cell_type": "code",
   "execution_count": null,
   "metadata": {
    "collapsed": true
   },
   "outputs": [],
   "source": []
  }
 ],
 "metadata": {
  "kernelspec": {
   "display_name": "Python [conda root]",
   "language": "python",
   "name": "conda-root-py"
  },
  "language_info": {
   "codemirror_mode": {
    "name": "ipython",
    "version": 3
   },
   "file_extension": ".py",
   "mimetype": "text/x-python",
   "name": "python",
   "nbconvert_exporter": "python",
   "pygments_lexer": "ipython3",
   "version": "3.5.2"
  }
 },
 "nbformat": 4,
 "nbformat_minor": 2
}
